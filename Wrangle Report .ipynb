{
 "cells": [
  {
   "cell_type": "markdown",
   "id": "a74bd97b",
   "metadata": {},
   "source": [
    "Wrangle Report "
   ]
  },
  {
   "cell_type": "markdown",
   "id": "47129a78",
   "metadata": {},
   "source": [
    "###### 1- Gather\n",
    "- I started to gather the data from the differnt sources \n"
   ]
  },
  {
   "cell_type": "code",
   "execution_count": null,
   "id": "6b0a49b3",
   "metadata": {},
   "outputs": [],
   "source": [
    "#### import twitter-archive data\n",
    "tw_arch = pd.read_csv('twitter-archive-enhanced.csv')\n",
    "\n",
    "#Import image prediction\n",
    "image_prediction_url = \"https://d17h27t6h515a5.cloudfront.net/topher/2017/August/599fd2ad_image-predictions/image-predictions.tsv\"\n",
    "RE = requests.get(image_prediction_url)\n",
    "\n",
    "with open(image_prediction_url.split('/')[-1], mode = 'wb') as file:\n",
    "    file.write(RE.content)\n",
    "    \n",
    "images_df = pd.read_csv('image-predictions.tsv', sep = '\\t')\n",
    "#import tweet-json\n",
    "tw_data = pd.read_json('tweet-json',lines=True)"
   ]
  },
  {
   "cell_type": "markdown",
   "id": "c6db2f58",
   "metadata": {},
   "source": [
    "###### The 3 dataframes are:-¶\n",
    "- twitter-archive-enhanced\n",
    "- image_prediction\n",
    "- tweet-json"
   ]
  },
  {
   "cell_type": "markdown",
   "id": "12bebe5e",
   "metadata": {},
   "source": [
    "# Assessing"
   ]
  },
  {
   "cell_type": "markdown",
   "id": "df20da63",
   "metadata": {},
   "source": [
    "\n",
    " - Assessing it is the second step in data wrangling. When assessing, you're like a detective at work, inspecting your dataset for two things: data quality issues, and lack of tidiness.\n",
    "Assessing is the ancestor to cleaning"
   ]
  },
  {
   "cell_type": "markdown",
   "id": "6213eac8",
   "metadata": {},
   "source": [
    "here are the proplems found in the datasets ."
   ]
  },
  {
   "cell_type": "markdown",
   "id": "a651c190",
   "metadata": {},
   "source": [
    "- 1- Wrong Datatype:- timestamp -> datetime\n",
    "-  tweet_id in tha datasets  --> should be object(string)\n",
    "\n",
    "- 2- Clean invalid dog names\n",
    "\n",
    "- 3- Some of the rating numerators are not correctly extracted.(srating_numerator,rating_denominator)--->- columns have extrem value should merge to be rating_value as one columns\n",
    "- 4 Create a rating column by dividing rating_numerator values by rating_denominator values to use in data analysis-\n",
    "\n",
    "- 5 -None in doggo, floofer, pupper, puppo columns is treated as a non-null value. \n",
    "- 6- Remove html tags from source column to make it more readable.\n",
    "- 7- Remove retweets as you only want original dog ratings.(in_reply_to_status_id,in_reply_to_user_id, \n",
    "   retweeted_status_id,in_reply_to_user_id ))\n",
    "- 8-Extract The right predictions\n",
    "- 9-remove retweet-related columns after removing rows with retweets as these columns become empty.\n",
    "- 10-remove retweets (text starting with RT @). \n"
   ]
  },
  {
   "cell_type": "markdown",
   "id": "e77b84b1",
   "metadata": {},
   "source": [
    "## Tideness\n",
    " -  Twitter-archive -->Dog Stages such as (doggo,floofer,pupper,puppo) Should be in one column.\n",
    " - All data   ---> must be comined together .\n"
   ]
  },
  {
   "cell_type": "markdown",
   "id": "a26e4566",
   "metadata": {},
   "source": [
    "## Cleaning "
   ]
  },
  {
   "cell_type": "markdown",
   "id": "0a56d2f5",
   "metadata": {},
   "source": [
    "Next step in data wrangling.\n",
    "It is where we will fix the quality and tidiness issues that we identified in the assess step."
   ]
  },
  {
   "cell_type": "markdown",
   "id": "692ceaf4",
   "metadata": {},
   "source": [
    "- Some of the questions I asked before arranging the data:\n",
    "- How many Tweets and favorites?\n",
    "- What is the most repeated name?\n",
    "- What is the top prediction?\n",
    "- What is Top Dog Stage?\n"
   ]
  },
  {
   "cell_type": "code",
   "execution_count": null,
   "id": "52ff0ad9",
   "metadata": {},
   "outputs": [],
   "source": []
  }
 ],
 "metadata": {
  "kernelspec": {
   "display_name": "Python 3",
   "language": "python",
   "name": "python3"
  },
  "language_info": {
   "codemirror_mode": {
    "name": "ipython",
    "version": 3
   },
   "file_extension": ".py",
   "mimetype": "text/x-python",
   "name": "python",
   "nbconvert_exporter": "python",
   "pygments_lexer": "ipython3",
   "version": "3.8.8"
  }
 },
 "nbformat": 4,
 "nbformat_minor": 5
}
